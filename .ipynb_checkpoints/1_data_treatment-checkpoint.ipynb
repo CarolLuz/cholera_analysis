{
 "cells": [
  {
   "cell_type": "markdown",
   "metadata": {
    "id": "USyhMFBjo8hr"
   },
   "source": [
    "Dataset:\\\n",
    "https://www.kaggle.com/datasets/imdevskp/cholera-dataset"
   ]
  },
  {
   "cell_type": "code",
   "execution_count": 1,
   "metadata": {
    "executionInfo": {
     "elapsed": 2246,
     "status": "ok",
     "timestamp": 1670448185050,
     "user": {
      "displayName": "Carol Luz",
      "userId": "10073088527364535866"
     },
     "user_tz": 180
    },
    "id": "2-spZLVAtuXp"
   },
   "outputs": [],
   "source": [
    "import pandas as pd"
   ]
  },
  {
   "cell_type": "markdown",
   "metadata": {
    "id": "qkkABG3HRIu8"
   },
   "source": [
    "### 1. Data treatment"
   ]
  },
  {
   "cell_type": "code",
   "execution_count": 2,
   "metadata": {
    "colab": {
     "base_uri": "https://localhost:8080/",
     "height": 354
    },
    "executionInfo": {
     "elapsed": 16,
     "status": "ok",
     "timestamp": 1670448185050,
     "user": {
      "displayName": "Carol Luz",
      "userId": "10073088527364535866"
     },
     "user_tz": 180
    },
    "id": "qY151mmluoqK",
    "outputId": "d49e8353-e83f-427a-cb7c-b8f8e94a48d9"
   },
   "outputs": [
    {
     "data": {
      "text/html": [
       "<div>\n",
       "<style scoped>\n",
       "    .dataframe tbody tr th:only-of-type {\n",
       "        vertical-align: middle;\n",
       "    }\n",
       "\n",
       "    .dataframe tbody tr th {\n",
       "        vertical-align: top;\n",
       "    }\n",
       "\n",
       "    .dataframe thead th {\n",
       "        text-align: right;\n",
       "    }\n",
       "</style>\n",
       "<table border=\"1\" class=\"dataframe\">\n",
       "  <thead>\n",
       "    <tr style=\"text-align: right;\">\n",
       "      <th></th>\n",
       "      <th>Country</th>\n",
       "      <th>Year</th>\n",
       "      <th>Number of reported cases of cholera</th>\n",
       "      <th>Number of reported deaths from cholera</th>\n",
       "      <th>Cholera case fatality rate</th>\n",
       "      <th>WHO Region</th>\n",
       "    </tr>\n",
       "  </thead>\n",
       "  <tbody>\n",
       "    <tr>\n",
       "      <th>0</th>\n",
       "      <td>Afghanistan</td>\n",
       "      <td>2016</td>\n",
       "      <td>677</td>\n",
       "      <td>5</td>\n",
       "      <td>0.7</td>\n",
       "      <td>Eastern Mediterranean</td>\n",
       "    </tr>\n",
       "    <tr>\n",
       "      <th>1</th>\n",
       "      <td>Afghanistan</td>\n",
       "      <td>2015</td>\n",
       "      <td>58064</td>\n",
       "      <td>8</td>\n",
       "      <td>0.01</td>\n",
       "      <td>Eastern Mediterranean</td>\n",
       "    </tr>\n",
       "    <tr>\n",
       "      <th>2</th>\n",
       "      <td>Afghanistan</td>\n",
       "      <td>2014</td>\n",
       "      <td>45481</td>\n",
       "      <td>4</td>\n",
       "      <td>0.0</td>\n",
       "      <td>Eastern Mediterranean</td>\n",
       "    </tr>\n",
       "    <tr>\n",
       "      <th>3</th>\n",
       "      <td>Afghanistan</td>\n",
       "      <td>2013</td>\n",
       "      <td>3957</td>\n",
       "      <td>14</td>\n",
       "      <td>0.35</td>\n",
       "      <td>Eastern Mediterranean</td>\n",
       "    </tr>\n",
       "    <tr>\n",
       "      <th>4</th>\n",
       "      <td>Afghanistan</td>\n",
       "      <td>2012</td>\n",
       "      <td>12</td>\n",
       "      <td>0</td>\n",
       "      <td>0.1</td>\n",
       "      <td>Eastern Mediterranean</td>\n",
       "    </tr>\n",
       "  </tbody>\n",
       "</table>\n",
       "</div>"
      ],
      "text/plain": [
       "       Country  Year Number of reported cases of cholera  \\\n",
       "0  Afghanistan  2016                                 677   \n",
       "1  Afghanistan  2015                               58064   \n",
       "2  Afghanistan  2014                               45481   \n",
       "3  Afghanistan  2013                                3957   \n",
       "4  Afghanistan  2012                                  12   \n",
       "\n",
       "  Number of reported deaths from cholera Cholera case fatality rate  \\\n",
       "0                                      5                        0.7   \n",
       "1                                      8                       0.01   \n",
       "2                                      4                        0.0   \n",
       "3                                     14                       0.35   \n",
       "4                                      0                        0.1   \n",
       "\n",
       "              WHO Region  \n",
       "0  Eastern Mediterranean  \n",
       "1  Eastern Mediterranean  \n",
       "2  Eastern Mediterranean  \n",
       "3  Eastern Mediterranean  \n",
       "4  Eastern Mediterranean  "
      ]
     },
     "execution_count": 2,
     "metadata": {},
     "output_type": "execute_result"
    }
   ],
   "source": [
    "data = pd.read_csv('data.csv')\n",
    "data.head()"
   ]
  },
  {
   "cell_type": "code",
   "execution_count": 3,
   "metadata": {
    "colab": {
     "base_uri": "https://localhost:8080/"
    },
    "executionInfo": {
     "elapsed": 15,
     "status": "ok",
     "timestamp": 1670448185050,
     "user": {
      "displayName": "Carol Luz",
      "userId": "10073088527364535866"
     },
     "user_tz": 180
    },
    "id": "jxgHwJfguxge",
    "outputId": "7de6848f-5788-449b-fdd9-1cceecc18802"
   },
   "outputs": [
    {
     "name": "stdout",
     "output_type": "stream",
     "text": [
      "<class 'pandas.core.frame.DataFrame'>\n",
      "RangeIndex: 2492 entries, 0 to 2491\n",
      "Data columns (total 6 columns):\n",
      " #   Column                                  Non-Null Count  Dtype \n",
      "---  ------                                  --------------  ----- \n",
      " 0   Country                                 2492 non-null   object\n",
      " 1   Year                                    2492 non-null   int64 \n",
      " 2   Number of reported cases of cholera     2470 non-null   object\n",
      " 3   Number of reported deaths from cholera  2375 non-null   object\n",
      " 4   Cholera case fatality rate              2365 non-null   object\n",
      " 5   WHO Region                              2492 non-null   object\n",
      "dtypes: int64(1), object(5)\n",
      "memory usage: 116.9+ KB\n"
     ]
    }
   ],
   "source": [
    "data.info()"
   ]
  },
  {
   "cell_type": "code",
   "execution_count": 4,
   "metadata": {
    "colab": {
     "base_uri": "https://localhost:8080/"
    },
    "executionInfo": {
     "elapsed": 14,
     "status": "ok",
     "timestamp": 1670448185051,
     "user": {
      "displayName": "Carol Luz",
      "userId": "10073088527364535866"
     },
     "user_tz": 180
    },
    "id": "lQdLchDSOCiu",
    "outputId": "873ae049-1666-41ee-d331-b2f01a6be0c4"
   },
   "outputs": [
    {
     "name": "stdout",
     "output_type": "stream",
     "text": [
      "<class 'pandas.core.frame.DataFrame'>\n",
      "RangeIndex: 2492 entries, 0 to 2491\n",
      "Data columns (total 6 columns):\n",
      " #   Column                                  Non-Null Count  Dtype  \n",
      "---  ------                                  --------------  -----  \n",
      " 0   Country                                 2492 non-null   object \n",
      " 1   Year                                    2492 non-null   int64  \n",
      " 2   Number of reported cases of cholera     2469 non-null   float32\n",
      " 3   Number of reported deaths from cholera  2373 non-null   float32\n",
      " 4   Cholera case fatality rate              2363 non-null   float32\n",
      " 5   WHO Region                              2492 non-null   object \n",
      "dtypes: float32(3), int64(1), object(2)\n",
      "memory usage: 87.7+ KB\n"
     ]
    }
   ],
   "source": [
    "data['Number of reported cases of cholera'] = pd.to_numeric(\n",
    "    data['Number of reported cases of cholera'], \n",
    "    errors='coerce', \n",
    "    downcast='float')\n",
    "\n",
    "data['Number of reported deaths from cholera'] = pd.to_numeric(\n",
    "    data['Number of reported deaths from cholera'], \n",
    "    errors='coerce', \n",
    "    downcast='float')\n",
    "\n",
    "data['Cholera case fatality rate'] = pd.to_numeric(\n",
    "    data['Cholera case fatality rate'], \n",
    "    errors='coerce', \n",
    "    downcast='float')\n",
    "\n",
    "data.info()"
   ]
  },
  {
   "cell_type": "code",
   "execution_count": 5,
   "metadata": {
    "colab": {
     "base_uri": "https://localhost:8080/"
    },
    "executionInfo": {
     "elapsed": 13,
     "status": "ok",
     "timestamp": 1670448185051,
     "user": {
      "displayName": "Carol Luz",
      "userId": "10073088527364535866"
     },
     "user_tz": 180
    },
    "id": "mvp0qU99vwDe",
    "outputId": "10aa8675-7ea9-468d-b032-8334b4a0e14d"
   },
   "outputs": [
    {
     "name": "stdout",
     "output_type": "stream",
     "text": [
      "<class 'pandas.core.frame.DataFrame'>\n",
      "Int64Index: 2352 entries, 0 to 2468\n",
      "Data columns (total 6 columns):\n",
      " #   Column                                  Non-Null Count  Dtype  \n",
      "---  ------                                  --------------  -----  \n",
      " 0   Country                                 2352 non-null   object \n",
      " 1   Year                                    2352 non-null   int64  \n",
      " 2   Number of reported cases of cholera     2352 non-null   float32\n",
      " 3   Number of reported deaths from cholera  2352 non-null   float32\n",
      " 4   Cholera case fatality rate              2352 non-null   float32\n",
      " 5   WHO Region                              2352 non-null   object \n",
      "dtypes: float32(3), int64(1), object(2)\n",
      "memory usage: 101.1+ KB\n"
     ]
    }
   ],
   "source": [
    "data.dropna(inplace=True)\n",
    "data.info()"
   ]
  },
  {
   "cell_type": "code",
   "execution_count": 6,
   "metadata": {
    "colab": {
     "base_uri": "https://localhost:8080/",
     "height": 354
    },
    "executionInfo": {
     "elapsed": 12,
     "status": "ok",
     "timestamp": 1670448185051,
     "user": {
      "displayName": "Carol Luz",
      "userId": "10073088527364535866"
     },
     "user_tz": 180
    },
    "id": "TKeEFE2LRrnx",
    "outputId": "c1873b1b-8daa-4dbf-8393-6290f46ebf5b"
   },
   "outputs": [
    {
     "data": {
      "text/html": [
       "<div>\n",
       "<style scoped>\n",
       "    .dataframe tbody tr th:only-of-type {\n",
       "        vertical-align: middle;\n",
       "    }\n",
       "\n",
       "    .dataframe tbody tr th {\n",
       "        vertical-align: top;\n",
       "    }\n",
       "\n",
       "    .dataframe thead th {\n",
       "        text-align: right;\n",
       "    }\n",
       "</style>\n",
       "<table border=\"1\" class=\"dataframe\">\n",
       "  <thead>\n",
       "    <tr style=\"text-align: right;\">\n",
       "      <th></th>\n",
       "      <th>Country</th>\n",
       "      <th>Year</th>\n",
       "      <th>Number of reported cases of cholera</th>\n",
       "      <th>Number of reported deaths from cholera</th>\n",
       "      <th>Cholera case fatality rate</th>\n",
       "      <th>WHO Region</th>\n",
       "    </tr>\n",
       "  </thead>\n",
       "  <tbody>\n",
       "    <tr>\n",
       "      <th>0</th>\n",
       "      <td>Afghanistan</td>\n",
       "      <td>2016</td>\n",
       "      <td>677.0</td>\n",
       "      <td>5.0</td>\n",
       "      <td>0.70</td>\n",
       "      <td>Eastern Mediterranean</td>\n",
       "    </tr>\n",
       "    <tr>\n",
       "      <th>1</th>\n",
       "      <td>Afghanistan</td>\n",
       "      <td>2015</td>\n",
       "      <td>58064.0</td>\n",
       "      <td>8.0</td>\n",
       "      <td>0.01</td>\n",
       "      <td>Eastern Mediterranean</td>\n",
       "    </tr>\n",
       "    <tr>\n",
       "      <th>2</th>\n",
       "      <td>Afghanistan</td>\n",
       "      <td>2014</td>\n",
       "      <td>45481.0</td>\n",
       "      <td>4.0</td>\n",
       "      <td>0.00</td>\n",
       "      <td>Eastern Mediterranean</td>\n",
       "    </tr>\n",
       "    <tr>\n",
       "      <th>3</th>\n",
       "      <td>Afghanistan</td>\n",
       "      <td>2013</td>\n",
       "      <td>3957.0</td>\n",
       "      <td>14.0</td>\n",
       "      <td>0.35</td>\n",
       "      <td>Eastern Mediterranean</td>\n",
       "    </tr>\n",
       "    <tr>\n",
       "      <th>4</th>\n",
       "      <td>Afghanistan</td>\n",
       "      <td>2012</td>\n",
       "      <td>12.0</td>\n",
       "      <td>0.0</td>\n",
       "      <td>0.10</td>\n",
       "      <td>Eastern Mediterranean</td>\n",
       "    </tr>\n",
       "  </tbody>\n",
       "</table>\n",
       "</div>"
      ],
      "text/plain": [
       "       Country  Year  Number of reported cases of cholera  \\\n",
       "0  Afghanistan  2016                                677.0   \n",
       "1  Afghanistan  2015                              58064.0   \n",
       "2  Afghanistan  2014                              45481.0   \n",
       "3  Afghanistan  2013                               3957.0   \n",
       "4  Afghanistan  2012                                 12.0   \n",
       "\n",
       "   Number of reported deaths from cholera  Cholera case fatality rate  \\\n",
       "0                                     5.0                        0.70   \n",
       "1                                     8.0                        0.01   \n",
       "2                                     4.0                        0.00   \n",
       "3                                    14.0                        0.35   \n",
       "4                                     0.0                        0.10   \n",
       "\n",
       "              WHO Region  \n",
       "0  Eastern Mediterranean  \n",
       "1  Eastern Mediterranean  \n",
       "2  Eastern Mediterranean  \n",
       "3  Eastern Mediterranean  \n",
       "4  Eastern Mediterranean  "
      ]
     },
     "execution_count": 6,
     "metadata": {},
     "output_type": "execute_result"
    }
   ],
   "source": [
    "data.head()"
   ]
  },
  {
   "cell_type": "code",
   "execution_count": 7,
   "metadata": {},
   "outputs": [
    {
     "data": {
      "text/html": [
       "<div>\n",
       "<style scoped>\n",
       "    .dataframe tbody tr th:only-of-type {\n",
       "        vertical-align: middle;\n",
       "    }\n",
       "\n",
       "    .dataframe tbody tr th {\n",
       "        vertical-align: top;\n",
       "    }\n",
       "\n",
       "    .dataframe thead th {\n",
       "        text-align: right;\n",
       "    }\n",
       "</style>\n",
       "<table border=\"1\" class=\"dataframe\">\n",
       "  <thead>\n",
       "    <tr style=\"text-align: right;\">\n",
       "      <th></th>\n",
       "      <th>Country</th>\n",
       "      <th>Year</th>\n",
       "      <th>Number of reported cases of cholera</th>\n",
       "      <th>Number of reported deaths from cholera</th>\n",
       "      <th>Cholera case fatality rate</th>\n",
       "      <th>WHO Region</th>\n",
       "    </tr>\n",
       "  </thead>\n",
       "  <tbody>\n",
       "    <tr>\n",
       "      <th>0</th>\n",
       "      <td>Afghanistan</td>\n",
       "      <td>2016</td>\n",
       "      <td>677.0</td>\n",
       "      <td>5.0</td>\n",
       "      <td>0.70</td>\n",
       "      <td>Eastern Mediterranean</td>\n",
       "    </tr>\n",
       "    <tr>\n",
       "      <th>1</th>\n",
       "      <td>Afghanistan</td>\n",
       "      <td>2015</td>\n",
       "      <td>58064.0</td>\n",
       "      <td>8.0</td>\n",
       "      <td>0.01</td>\n",
       "      <td>Eastern Mediterranean</td>\n",
       "    </tr>\n",
       "    <tr>\n",
       "      <th>2</th>\n",
       "      <td>Afghanistan</td>\n",
       "      <td>2014</td>\n",
       "      <td>45481.0</td>\n",
       "      <td>4.0</td>\n",
       "      <td>0.00</td>\n",
       "      <td>Eastern Mediterranean</td>\n",
       "    </tr>\n",
       "    <tr>\n",
       "      <th>3</th>\n",
       "      <td>Afghanistan</td>\n",
       "      <td>2013</td>\n",
       "      <td>3957.0</td>\n",
       "      <td>14.0</td>\n",
       "      <td>0.35</td>\n",
       "      <td>Eastern Mediterranean</td>\n",
       "    </tr>\n",
       "    <tr>\n",
       "      <th>4</th>\n",
       "      <td>Afghanistan</td>\n",
       "      <td>2012</td>\n",
       "      <td>12.0</td>\n",
       "      <td>0.0</td>\n",
       "      <td>0.10</td>\n",
       "      <td>Eastern Mediterranean</td>\n",
       "    </tr>\n",
       "    <tr>\n",
       "      <th>...</th>\n",
       "      <td>...</td>\n",
       "      <td>...</td>\n",
       "      <td>...</td>\n",
       "      <td>...</td>\n",
       "      <td>...</td>\n",
       "      <td>...</td>\n",
       "    </tr>\n",
       "    <tr>\n",
       "      <th>2463</th>\n",
       "      <td>Zimbabwe</td>\n",
       "      <td>1992</td>\n",
       "      <td>2048.0</td>\n",
       "      <td>105.0</td>\n",
       "      <td>5.13</td>\n",
       "      <td>Africa</td>\n",
       "    </tr>\n",
       "    <tr>\n",
       "      <th>2465</th>\n",
       "      <td>Zimbabwe</td>\n",
       "      <td>1985</td>\n",
       "      <td>144.0</td>\n",
       "      <td>6.0</td>\n",
       "      <td>4.17</td>\n",
       "      <td>Africa</td>\n",
       "    </tr>\n",
       "    <tr>\n",
       "      <th>2466</th>\n",
       "      <td>Zimbabwe</td>\n",
       "      <td>1976</td>\n",
       "      <td>144.0</td>\n",
       "      <td>9.0</td>\n",
       "      <td>6.25</td>\n",
       "      <td>Africa</td>\n",
       "    </tr>\n",
       "    <tr>\n",
       "      <th>2467</th>\n",
       "      <td>Zimbabwe</td>\n",
       "      <td>1975</td>\n",
       "      <td>615.0</td>\n",
       "      <td>33.0</td>\n",
       "      <td>5.37</td>\n",
       "      <td>Africa</td>\n",
       "    </tr>\n",
       "    <tr>\n",
       "      <th>2468</th>\n",
       "      <td>Zimbabwe</td>\n",
       "      <td>1974</td>\n",
       "      <td>37.0</td>\n",
       "      <td>0.0</td>\n",
       "      <td>0.00</td>\n",
       "      <td>Africa</td>\n",
       "    </tr>\n",
       "  </tbody>\n",
       "</table>\n",
       "<p>2352 rows × 6 columns</p>\n",
       "</div>"
      ],
      "text/plain": [
       "          Country  Year  Number of reported cases of cholera  \\\n",
       "0     Afghanistan  2016                                677.0   \n",
       "1     Afghanistan  2015                              58064.0   \n",
       "2     Afghanistan  2014                              45481.0   \n",
       "3     Afghanistan  2013                               3957.0   \n",
       "4     Afghanistan  2012                                 12.0   \n",
       "...           ...   ...                                  ...   \n",
       "2463     Zimbabwe  1992                               2048.0   \n",
       "2465     Zimbabwe  1985                                144.0   \n",
       "2466     Zimbabwe  1976                                144.0   \n",
       "2467     Zimbabwe  1975                                615.0   \n",
       "2468     Zimbabwe  1974                                 37.0   \n",
       "\n",
       "      Number of reported deaths from cholera  Cholera case fatality rate  \\\n",
       "0                                        5.0                        0.70   \n",
       "1                                        8.0                        0.01   \n",
       "2                                        4.0                        0.00   \n",
       "3                                       14.0                        0.35   \n",
       "4                                        0.0                        0.10   \n",
       "...                                      ...                         ...   \n",
       "2463                                   105.0                        5.13   \n",
       "2465                                     6.0                        4.17   \n",
       "2466                                     9.0                        6.25   \n",
       "2467                                    33.0                        5.37   \n",
       "2468                                     0.0                        0.00   \n",
       "\n",
       "                 WHO Region  \n",
       "0     Eastern Mediterranean  \n",
       "1     Eastern Mediterranean  \n",
       "2     Eastern Mediterranean  \n",
       "3     Eastern Mediterranean  \n",
       "4     Eastern Mediterranean  \n",
       "...                     ...  \n",
       "2463                 Africa  \n",
       "2465                 Africa  \n",
       "2466                 Africa  \n",
       "2467                 Africa  \n",
       "2468                 Africa  \n",
       "\n",
       "[2352 rows x 6 columns]"
      ]
     },
     "execution_count": 7,
     "metadata": {},
     "output_type": "execute_result"
    }
   ],
   "source": [
    "data.loc[data['Country']=='Congo', 'WHO Region'] = 'Africa'\n",
    "data"
   ]
  }
 ],
 "metadata": {
  "colab": {
   "authorship_tag": "ABX9TyPyGghwCGTpKbgg0ienqhMY",
   "provenance": []
  },
  "kernelspec": {
   "display_name": "Python 3 (ipykernel)",
   "language": "python",
   "name": "python3"
  },
  "language_info": {
   "codemirror_mode": {
    "name": "ipython",
    "version": 3
   },
   "file_extension": ".py",
   "mimetype": "text/x-python",
   "name": "python",
   "nbconvert_exporter": "python",
   "pygments_lexer": "ipython3",
   "version": "3.10.6"
  },
  "vscode": {
   "interpreter": {
    "hash": "916dbcbb3f70747c44a77c7bcd40155683ae19c65e1c03b4aa3499c5328201f1"
   }
  }
 },
 "nbformat": 4,
 "nbformat_minor": 1
}
